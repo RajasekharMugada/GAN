{
 "cells": [
  {
   "cell_type": "markdown",
   "metadata": {},
   "source": [
    "# Deep Convolutional GAN\n",
    "* DCGANs can be used to avoid mode collapse in simple GANs\n",
    "* Mode collapse is a scenario which occurs if generator tries to output very similar/same images for any input poise\n",
    "* MNIST data set is used to demonstrate DCGAN\n",
    "\n",
    "Steps:\n",
    "1. Load real image dataset\n",
    "2. Data scaling as per netowrk layer activation function. For tanh activation of generator last layer, preferred data range is -1 to +1\n",
    "3. Prepare generator and discriminator network keeping deep convolutional layers\n",
    "4. For training each batch use two phases where\n",
    " * in Ph1 : Train only discriminator with real images(labeled as 1) and fake images(labeled as 0) \n",
    " * in Ph2 : Train only generator with fake images (labeled as 1)\n",
    " "
   ]
  },
  {
   "cell_type": "markdown",
   "metadata": {},
   "source": [
    "#### Imports"
   ]
  },
  {
   "cell_type": "code",
   "execution_count": 29,
   "metadata": {},
   "outputs": [],
   "source": [
    "import numpy as np"
   ]
  },
  {
   "cell_type": "code",
   "execution_count": 30,
   "metadata": {},
   "outputs": [],
   "source": [
    "import matplotlib.pyplot as plt"
   ]
  },
  {
   "cell_type": "markdown",
   "metadata": {},
   "source": [
    "## Load MNIST dataset"
   ]
  },
  {
   "cell_type": "code",
   "execution_count": 31,
   "metadata": {},
   "outputs": [],
   "source": [
    "from tensorflow.keras.datasets import mnist"
   ]
  },
  {
   "cell_type": "code",
   "execution_count": 32,
   "metadata": {},
   "outputs": [],
   "source": [
    "(X_train, y_train),(X_test, y_test) = mnist.load_data()"
   ]
  },
  {
   "cell_type": "markdown",
   "metadata": {},
   "source": [
    "#### Taking only images with zero label as training gan would need lot of resources"
   ]
  },
  {
   "cell_type": "code",
   "execution_count": 33,
   "metadata": {},
   "outputs": [],
   "source": [
    "real_image_dataset = X_train[y_train == 0]"
   ]
  },
  {
   "cell_type": "code",
   "execution_count": 34,
   "metadata": {},
   "outputs": [
    {
     "data": {
      "text/plain": [
       "<matplotlib.image.AxesImage at 0x1a2b8844908>"
      ]
     },
     "execution_count": 34,
     "metadata": {},
     "output_type": "execute_result"
    },
    {
     "data": {
      "image/png": "[encoded data removed]",
      "text/plain": [
       "<Figure size 432x288 with 1 Axes>"
      ]
     },
     "metadata": {
      "needs_background": "light"
     },
     "output_type": "display_data"
    }
   ],
   "source": [
    "plt.imshow(real_image_dataset[1])"
   ]
  },
  {
   "cell_type": "code",
   "execution_count": 35,
   "metadata": {},
   "outputs": [
    {
     "data": {
      "text/plain": [
       "5923"
      ]
     },
     "execution_count": 35,
     "metadata": {},
     "output_type": "execute_result"
    }
   ],
   "source": [
    "len(real_image_dataset)"
   ]
  },
  {
   "cell_type": "code",
   "execution_count": 36,
   "metadata": {},
   "outputs": [
    {
     "data": {
      "text/plain": [
       "(28, 28)"
      ]
     },
     "execution_count": 36,
     "metadata": {},
     "output_type": "execute_result"
    }
   ],
   "source": [
    "single_img_shape = real_image_dataset[0].shape\n",
    "single_img_shape"
   ]
  },
  {
   "cell_type": "markdown",
   "metadata": {},
   "source": [
    "## Scale image data\n",
    "* As generator last layer uses tanh activation function and generates fake images with data range -1 to 1, try to scale real image data also in the same range"
   ]
  },
  {
   "cell_type": "code",
   "execution_count": 37,
   "metadata": {},
   "outputs": [],
   "source": [
    "#scale 0 to 1\n",
    "real_image_dataset = real_image_dataset/255"
   ]
  },
  {
   "cell_type": "code",
   "execution_count": 38,
   "metadata": {},
   "outputs": [],
   "source": [
    "#scale -1 to +1, since we will be using tanh activation for first network layer\n",
    "real_image_dataset = 2*real_image_dataset - 1"
   ]
  },
  {
   "cell_type": "code",
   "execution_count": 39,
   "metadata": {},
   "outputs": [
    {
     "data": {
      "text/plain": [
       "(-1.0, 1.0)"
      ]
     },
     "execution_count": 39,
     "metadata": {},
     "output_type": "execute_result"
    }
   ],
   "source": [
    "real_image_dataset.min(), real_image_dataset.max()"
   ]
  },
  {
   "cell_type": "markdown",
   "metadata": {},
   "source": [
    "#### Reshape the image data adding channels inoformation of convolutional layer"
   ]
  },
  {
   "cell_type": "code",
   "execution_count": 40,
   "metadata": {},
   "outputs": [],
   "source": [
    "real_image_dataset = np.expand_dims(real_image_dataset, axis = -1)"
   ]
  },
  {
   "cell_type": "code",
   "execution_count": 41,
   "metadata": {},
   "outputs": [
    {
     "data": {
      "text/plain": [
       "(5923, 28, 28, 1)"
      ]
     },
     "execution_count": 41,
     "metadata": {},
     "output_type": "execute_result"
    }
   ],
   "source": [
    "real_image_dataset.shape"
   ]
  },
  {
   "cell_type": "code",
   "execution_count": 42,
   "metadata": {},
   "outputs": [],
   "source": [
    "img_shape = real_image_dataset.shape[1:]"
   ]
  },
  {
   "cell_type": "code",
   "execution_count": 43,
   "metadata": {},
   "outputs": [
    {
     "data": {
      "text/plain": [
       "(28, 28, 1)"
      ]
     },
     "execution_count": 43,
     "metadata": {},
     "output_type": "execute_result"
    }
   ],
   "source": [
    "img_shape"
   ]
  },
  {
   "cell_type": "markdown",
   "metadata": {},
   "source": [
    "## Create DCGAN"
   ]
  },
  {
   "cell_type": "markdown",
   "metadata": {},
   "source": [
    "#### Discriminator"
   ]
  },
  {
   "cell_type": "code",
   "execution_count": 44,
   "metadata": {},
   "outputs": [],
   "source": [
    "from tensorflow.keras.models import Sequential\n",
    "from tensorflow.keras.layers import Conv2D, Dropout, BatchNormalization, Flatten, Dense, LeakyReLU"
   ]
  },
  {
   "cell_type": "code",
   "execution_count": 56,
   "metadata": {},
   "outputs": [],
   "source": [
    "discriminator = Sequential()\n",
    "#input shape : 28x28x1\n",
    "#l1 - output 14x14x64\n",
    "discriminator.add(Conv2D(filters = 64, kernel_size = 5, strides = 2, padding = 'same', activation = LeakyReLU(0.3), input_shape = img_shape))\n",
    "discriminator.add(Dropout(0.5))\n",
    "#l2 - output 7x7x128\n",
    "discriminator.add(Conv2D(filters = 128, kernel_size = 5, strides = 2, padding = 'same', activation = LeakyReLU(0.3)))\n",
    "discriminator.add(Dropout(0.5))\n",
    "#l3 - output 6272 (=7x7x128)\n",
    "discriminator.add(Flatten())\n",
    "#l4 - output  1\n",
    "discriminator.add(Dense(1, activation = 'sigmoid'))\n",
    "\n",
    "#compile discriminator\n",
    "discriminator.compile(loss = 'binary_crossentropy', optimizer = 'adam' )\n",
    "discriminator.trainable = False"
   ]
  },
  {
   "cell_type": "code",
   "execution_count": 57,
   "metadata": {},
   "outputs": [
    {
     "name": "stdout",
     "output_type": "stream",
     "text": [
      "Model: \"sequential_6\"\n",
      "_________________________________________________________________\n",
      "Layer (type)                 Output Shape              Param #   \n",
      "=================================================================\n",
      "conv2d_4 (Conv2D)            (None, 14, 14, 64)        1664      \n",
      "_________________________________________________________________\n",
      "dropout_4 (Dropout)          (None, 14, 14, 64)        0         \n",
      "_________________________________________________________________\n",
      "conv2d_5 (Conv2D)            (None, 7, 7, 128)         204928    \n",
      "_________________________________________________________________\n",
      "dropout_5 (Dropout)          (None, 7, 7, 128)         0         \n",
      "_________________________________________________________________\n",
      "flatten_2 (Flatten)          (None, 6272)              0         \n",
      "_________________________________________________________________\n",
      "dense_4 (Dense)              (None, 1)                 6273      \n",
      "=================================================================\n",
      "Total params: 425,730\n",
      "Trainable params: 212,865\n",
      "Non-trainable params: 212,865\n",
      "_________________________________________________________________\n"
     ]
    }
   ],
   "source": [
    "discriminator.summary()"
   ]
  },
  {
   "cell_type": "markdown",
   "metadata": {},
   "source": [
    "#### Generator\n",
    "* Try to build generatior network as mirror image of discriminator"
   ]
  },
  {
   "cell_type": "code",
   "execution_count": 58,
   "metadata": {},
   "outputs": [],
   "source": [
    "from tensorflow.keras.layers import Conv2DTranspose, Reshape"
   ]
  },
  {
   "cell_type": "code",
   "execution_count": 59,
   "metadata": {},
   "outputs": [],
   "source": [
    "codings_size = 100 # random noise sample size\n",
    "\n",
    "generator = Sequential()\n",
    "#input shape : 100\n",
    "#l1 - output 6272 (=7x7x128)\n",
    "generator.add(Dense(7*7*128, input_shape = [codings_size]))\n",
    "#l2 - output 7x7x128\n",
    "generator.add(Reshape([7,7,128]))\n",
    "#l3 - output 14x14x64\n",
    "generator.add(BatchNormalization()) #Normalize and scale inputs or activations.\n",
    "generator.add(Conv2DTranspose(filters = 64, kernel_size = 5, strides = 2, padding = 'same', activation = LeakyReLU(0.3)))\n",
    "#l4 - output 28x28x1\n",
    "generator.add(BatchNormalization()) #Normalize and scale inputs or activations.\n",
    "generator.add(Conv2DTranspose(filters = 1, kernel_size = 5, strides = 2, padding = 'same', activation = 'tanh'))"
   ]
  },
  {
   "cell_type": "code",
   "execution_count": 60,
   "metadata": {},
   "outputs": [
    {
     "name": "stdout",
     "output_type": "stream",
     "text": [
      "Model: \"sequential_7\"\n",
      "_________________________________________________________________\n",
      "Layer (type)                 Output Shape              Param #   \n",
      "=================================================================\n",
      "dense_5 (Dense)              (None, 6272)              633472    \n",
      "_________________________________________________________________\n",
      "reshape_2 (Reshape)          (None, 7, 7, 128)         0         \n",
      "_________________________________________________________________\n",
      "batch_normalization_v2_4 (Ba (None, 7, 7, 128)         512       \n",
      "_________________________________________________________________\n",
      "conv2d_transpose_4 (Conv2DTr (None, 14, 14, 64)        204864    \n",
      "_________________________________________________________________\n",
      "batch_normalization_v2_5 (Ba (None, 14, 14, 64)        256       \n",
      "_________________________________________________________________\n",
      "conv2d_transpose_5 (Conv2DTr (None, 28, 28, 1)         1601      \n",
      "=================================================================\n",
      "Total params: 840,705\n",
      "Trainable params: 840,321\n",
      "Non-trainable params: 384\n",
      "_________________________________________________________________\n"
     ]
    }
   ],
   "source": [
    "generator.summary()"
   ]
  },
  {
   "cell_type": "markdown",
   "metadata": {},
   "source": [
    "#### GAN model"
   ]
  },
  {
   "cell_type": "code",
   "execution_count": 61,
   "metadata": {},
   "outputs": [],
   "source": [
    "gan = Sequential([generator, discriminator])"
   ]
  },
  {
   "cell_type": "code",
   "execution_count": 62,
   "metadata": {},
   "outputs": [
    {
     "name": "stdout",
     "output_type": "stream",
     "text": [
      "Model: \"sequential_8\"\n",
      "_________________________________________________________________\n",
      "Layer (type)                 Output Shape              Param #   \n",
      "=================================================================\n",
      "sequential_7 (Sequential)    (None, 28, 28, 1)         840705    \n",
      "_________________________________________________________________\n",
      "sequential_6 (Sequential)    (None, 1)                 212865    \n",
      "=================================================================\n",
      "Total params: 1,053,570\n",
      "Trainable params: 840,321\n",
      "Non-trainable params: 213,249\n",
      "_________________________________________________________________\n"
     ]
    }
   ],
   "source": [
    "gan.summary()"
   ]
  },
  {
   "cell_type": "code",
   "execution_count": 63,
   "metadata": {},
   "outputs": [],
   "source": [
    "gan.compile(loss = 'binary_crossentropy', optimizer = 'adam')"
   ]
  },
  {
   "cell_type": "markdown",
   "metadata": {},
   "source": [
    "## Create batches"
   ]
  },
  {
   "cell_type": "code",
   "execution_count": 70,
   "metadata": {},
   "outputs": [],
   "source": [
    "batch_size = 32"
   ]
  },
  {
   "cell_type": "code",
   "execution_count": 72,
   "metadata": {},
   "outputs": [
    {
     "data": {
      "text/plain": [
       "185"
      ]
     },
     "execution_count": 72,
     "metadata": {},
     "output_type": "execute_result"
    }
   ],
   "source": [
    "num_batches = len(real_image_dataset)//batch_size\n",
    "num_batches"
   ]
  },
  {
   "cell_type": "code",
   "execution_count": 68,
   "metadata": {},
   "outputs": [],
   "source": [
    "import tensorflow as tf"
   ]
  },
  {
   "cell_type": "code",
   "execution_count": 82,
   "metadata": {},
   "outputs": [],
   "source": [
    "data_slices = tf.data.Dataset.from_tensor_slices(real_image_dataset).shuffle(buffer_size = 100)"
   ]
  },
  {
   "cell_type": "code",
   "execution_count": 83,
   "metadata": {},
   "outputs": [],
   "source": [
    "img_batches = data_slices.batch(batch_size = batch_size, drop_remainder = True)"
   ]
  },
  {
   "cell_type": "code",
   "execution_count": 84,
   "metadata": {},
   "outputs": [
    {
     "data": {
      "image/png": "[encoded data removed]",
      "text/plain": [
       "<Figure size 432x288 with 1 Axes>"
      ]
     },
     "metadata": {
      "needs_background": "light"
     },
     "output_type": "display_data"
    }
   ],
   "source": [
    "for img_batch in img_batches.take(1):\n",
    "    plt.imshow(tf.reshape(img_batch[0], (28,28)))"
   ]
  },
  {
   "cell_type": "markdown",
   "metadata": {},
   "source": [
    "## Train DCGAN"
   ]
  },
  {
   "cell_type": "code",
   "execution_count": 104,
   "metadata": {},
   "outputs": [
    {
     "name": "stdout",
     "output_type": "stream",
     "text": [
      "Current epoch : 1\n",
      "Current batch : 50 of 185\n",
      "Current batch : 100 of 185\n",
      "Current batch : 150 of 185\n",
      "Current epoch : 2\n",
      "Current batch : 200 of 185\n",
      "Current batch : 250 of 185\n",
      "Current batch : 300 of 185\n",
      "Current batch : 350 of 185\n",
      "Current epoch : 3\n",
      "Current batch : 400 of 185\n",
      "Current batch : 450 of 185\n",
      "Current batch : 500 of 185\n",
      "Current batch : 550 of 185\n",
      "Current epoch : 4\n",
      "Current batch : 600 of 185\n",
      "Current batch : 650 of 185\n",
      "Current batch : 700 of 185\n",
      "Current epoch : 5\n",
      "Current batch : 750 of 185\n",
      "Current batch : 800 of 185\n",
      "Current batch : 850 of 185\n",
      "Current batch : 900 of 185\n",
      "Current epoch : 6\n",
      "Current batch : 950 of 185\n",
      "Current batch : 1000 of 185\n",
      "Current batch : 1050 of 185\n",
      "Current batch : 1100 of 185\n",
      "Current epoch : 7\n",
      "Current batch : 1150 of 185\n",
      "Current batch : 1200 of 185\n",
      "Current batch : 1250 of 185\n",
      "Current epoch : 8\n",
      "Current batch : 1300 of 185\n",
      "Current batch : 1350 of 185\n",
      "Current batch : 1400 of 185\n",
      "Current batch : 1450 of 185\n",
      "Current epoch : 9\n",
      "Current batch : 1500 of 185\n",
      "Current batch : 1550 of 185\n",
      "Current batch : 1600 of 185\n",
      "Current batch : 1650 of 185\n",
      "Current epoch : 10\n",
      "Current batch : 1700 of 185\n",
      "Current batch : 1750 of 185\n",
      "Current batch : 1800 of 185\n",
      "Current batch : 1850 of 185\n",
      "Training complete\n"
     ]
    }
   ],
   "source": [
    "epochs = 10\n",
    "\n",
    "tf.random.set_seed(101)\n",
    "\n",
    "for epoch in range(epochs):\n",
    "    print(f'Current epoch : {epoch + 1}')\n",
    "    batch_no = 0\n",
    "    \n",
    "    for img_batch in img_batches:\n",
    "        batch_no = batch_no + 1\n",
    "        if(batch_no % 50 == 0):\n",
    "            print(f'Current batch : {batch_no} of {num_batches}')\n",
    "        \n",
    "        #------- Phase 1 - Train Discriminator -------------\n",
    "        #Generate random noise for generator input\n",
    "        noise = tf.random.normal([batch_size , codings_size])\n",
    "        #Generate fake images\n",
    "        fake_img_batch = generator(noise)\n",
    "        #Label fake images as zero and real images as 1\n",
    "        y_labels = [0]*batch_size + [1]*batch_size\n",
    "        #Combine fake and real images\n",
    "        fake_and_real_batch = tf.concat([fake_img_batch, tf.dtypes.cast(img_batch, tf.float32)], axis = 0) \n",
    "        #Train only discriminator network\n",
    "        discriminator.trainable = True\n",
    "        discriminator.train_on_batch(fake_and_real_batch, y_labels)\n",
    "        \n",
    "        #-------- Phase 2 - Train Generator -----------------\n",
    "        #Generate random noise for generator input\n",
    "        noise = tf.random.normal([batch_size , codings_size])\n",
    "        #Label fake images as 1 to confuse discriminator \n",
    "        y_labels = [1]*batch_size\n",
    "        #Train only the generator section in gan\n",
    "        discriminator.trainable = False\n",
    "        gan.train_on_batch(noise, y_labels)\n",
    "        \n",
    "print('Training complete')"
   ]
  },
  {
   "cell_type": "code",
   "execution_count": 108,
   "metadata": {},
   "outputs": [],
   "source": [
    "#Generate random noise for generator input\n",
    "noise = tf.random.normal([batch_size , codings_size])\n",
    "#Generate fake images\n",
    "fake_img_batch = generator(noise)"
   ]
  },
  {
   "cell_type": "code",
   "execution_count": 109,
   "metadata": {},
   "outputs": [
    {
     "data": {
      "text/plain": [
       "<matplotlib.image.AxesImage at 0x1a2c5103d88>"
      ]
     },
     "execution_count": 109,
     "metadata": {},
     "output_type": "execute_result"
    },
    {
     "data": {
      "image/png": "[encoded data removed]",
      "text/plain": [
       "<Figure size 432x288 with 1 Axes>"
      ]
     },
     "metadata": {
      "needs_background": "light"
     },
     "output_type": "display_data"
    }
   ],
   "source": [
    "plt.imshow(tf.reshape(fake_img_batch[0], (28,28)))"
   ]
  },
  {
   "cell_type": "code",
   "execution_count": 110,
   "metadata": {},
   "outputs": [
    {
     "data": {
      "text/plain": [
       "<matplotlib.image.AxesImage at 0x1a2c516ff88>"
      ]
     },
     "execution_count": 110,
     "metadata": {},
     "output_type": "execute_result"
    },
    {
     "data": {
      "image/png": "[encoded data removed]",
      "text/plain": [
       "<Figure size 432x288 with 1 Axes>"
      ]
     },
     "metadata": {
      "needs_background": "light"
     },
     "output_type": "display_data"
    }
   ],
   "source": [
    "plt.imshow(tf.reshape(fake_img_batch[1], (28,28)))"
   ]
  },
  {
   "cell_type": "code",
   "execution_count": 111,
   "metadata": {},
   "outputs": [
    {
     "data": {
      "text/plain": [
       "<matplotlib.image.AxesImage at 0x1a2c51d7888>"
      ]
     },
     "execution_count": 111,
     "metadata": {},
     "output_type": "execute_result"
    },
    {
     "data": {
      "image/png": "[encoded data removed]",
      "text/plain": [
       "<Figure size 432x288 with 1 Axes>"
      ]
     },
     "metadata": {
      "needs_background": "light"
     },
     "output_type": "display_data"
    }
   ],
   "source": [
    "plt.imshow(tf.reshape(fake_img_batch[2], (28,28)))"
   ]
  },
  {
   "cell_type": "markdown",
   "metadata": {},
   "source": [
    "#### By using DCGAN we can avoid mode collapse"
   ]
  },
  {
   "cell_type": "markdown",
   "metadata": {},
   "source": [
    "#### Good bye!!"
   ]
  },
  {
   "cell_type": "code",
   "execution_count": null,
   "metadata": {},
   "outputs": [],
   "source": []
  }
 ],
 "metadata": {
  "kernelspec": {
   "display_name": "Python 3",
   "language": "python",
   "name": "python3"
  }
 },
 "nbformat": 4,
 "nbformat_minor": 4
}
